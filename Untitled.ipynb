{
 "cells": [
  {
   "cell_type": "markdown",
   "metadata": {},
   "source": [
    "# __Tugas Besar I IF2122 Probabilitas dan Statistika__\n",
    "\n",
    "\n",
    "\n",
    "\n",
    "Oleh:\n",
    "\n",
    "##### Harry Setiawan Hamjaya\n",
    "\n",
    "##### 13516079"
   ]
  },
  {
   "cell_type": "markdown",
   "metadata": {},
   "source": [
    "\n",
    "## __SOAL 1__\n",
    "\n",
    "#### __Data: tinggimhs.csv__\n",
    "\n",
    "Institut Pertanian Indonesia (IPI) memiliki 1000 mahasiswa jurusan sastra teknik informatika. Suatu hari rektor IPI mendengar berita bahwa semakin tinggi seseorang, semakin besar kemungkinan orang tersebut akan sukses di kemudian hari. Oleh karena itu, IPI ingin menganalisis distribusi tinggi mahasiswa-mahasiswanya untuk memenuhi rasa penasaran apakah berita itu benar atau tidak. Sebagai seorang (calon) ahli statistika, Anda diminta oleh rektor IPI untuk:\n",
    "\n",
    "1 Menulis deskripsi statisktika (Descriptive Statistics) dari data tinggi mahasiswa, minimal terdiri dari mean, median, modus, standar deviasi, variansi, range, nilai minimum dan maksimum.\n",
    "\n",
    "2 Menentukan distribusi yang paling sesuai dari data tinggi mahasiswa. Jelaskan alasan mengapa distribusi tersebut dipilih.\n",
    "\n",
    "3 Membuat plot distribusi yang dipilih beserta plot distribusi kumulatifnya.\n",
    "\n",
    "4 Apabila suatu hari IPI menerima 100 mahasiswa, tentukan ekspektasi jumlah mahasiswa yang diterima dengan tinggi:\n",
    "    \n",
    "    a dibawah 150.00cm.\n",
    "    b diatas 200.00cm.\n",
    "\n",
    "5 Apabila suatu hari IPI menerima 50 mahasiswa, tentukan ekspektasi jumlah mahasiswa yang diterima dengan tinggi:\n",
    "    \n",
    "    a diantara 160.00cm dan 190.00cm inklusif.\n",
    "    b sama dengan 170.00cm."
   ]
  },
  {
   "cell_type": "code",
   "execution_count": 1,
   "metadata": {},
   "outputs": [
    {
     "name": "stdout",
     "output_type": "stream",
     "text": [
      "1.1) Deskripsi Data:\n",
      "\n",
      "Mean= 176.3076 \n",
      "Median= 176.31 \n",
      "Modus= 176.31 \n",
      "Standar Deviasi= 15.08223 \n",
      "Variansi= 227.4736 \n",
      "Range= 91.25 \n",
      "Maximum= 221.54 \n",
      "Minimum= 130.29"
     ]
    }
   ],
   "source": [
    "# Baca data dari tinggimhs.csv lalu dimasukkan dalam array bernama data dengan ukuran 1000 element\n",
    "data1 <- array(scan(\"tinggimhs.csv\"),dim = 1000)\n",
    "# Mencari nilai maksimum dari data\n",
    "maks1 <- max(data1)\n",
    "# Mencari nilai minimum dari data\n",
    "mini1 <- min(data1)\n",
    "# Mencari nilai median dari data\n",
    "mid1 <- median(data1)\n",
    "# Mencari nilai rata-rata dari data\n",
    "rata1 <-  mean(data1,na.rm=TRUE)\n",
    "# Membuat fungsi untuk mencari nilai modus\n",
    "getmode <- function(v) {\n",
    "   Best <- unique(v)\n",
    "   Best[which.max(tabulate(match(v, Best)))]\n",
    "}\n",
    "# Mencari nilai modus\n",
    "modus1 <- getmode(data1)\n",
    "# Mencari nilai standar deviasi dari data\n",
    "StandarDeviasi1 <- sd(data1)\n",
    "# Mencari nilai Variansi dari data\n",
    "Variansi1 <- var(data1)\n",
    "cat(\"1.1) Deskripsi Data:\\n\\n\")\n",
    "cat(\"Mean=\",rata1,\"\\nMedian=\",mid1,\"\\nModus=\",modus1,\"\\nStandar Deviasi=\",StandarDeviasi1,\"\\nVariansi=\",Variansi1,\"\\nRange=\",maks1-mini1,\"\\nMaximum=\",maks1,\"\\nMinimum=\",mini1)"
   ]
  },
  {
   "cell_type": "markdown",
   "metadata": {},
   "source": [
    "1.2 Penjelasan mengenai penggunaan distribusi normal.\n",
    "\n",
    "Distribusi yang paling sesuai adalah distribusi normal.\n",
    "\n",
    "Dari data yang dipunyai jelas kalau nilai Median sama besar dengan nilai Modus dan juga dapat dilihat kalau nilai Mean sangat mendekati nilai dari Median dan Modus.\n",
    "Selain itu dari plot data juga jelas kalau data mempunyai satu puncak (uni-modal) dan berbentuk simetris dan menyerupai lonceng"
   ]
  },
  {
   "cell_type": "code",
   "execution_count": 6,
   "metadata": {},
   "outputs": [
    {
     "name": "stdout",
     "output_type": "stream",
     "text": [
      "1.3) Plot grafik:\n"
     ]
    },
    {
     "data": {
      "image/png": "[encoded data removed]",
      "text/plain": [
       "Plot with title \"Grafik Distribusi Kumulatif Normal\""
      ]
     },
     "metadata": {},
     "output_type": "display_data"
    }
   ],
   "source": [
    "# Set the normal distribution graph\n",
    "x <- seq(mini1, maks1, length=1000)\n",
    "norm <- dnorm(x, rata1, StandarDeviasi1)\n",
    "\n",
    "# Set the par\n",
    "par(mfrow=c(2,1), cex.axis=0.8)\n",
    "\n",
    "# Set the histogram\n",
    "his <- hist(data1, breaks=100, plot=FALSE)\n",
    "\n",
    "cat(\"1.3) Plot grafik:\\n\");\n",
    "\n",
    "# Plot histogram dan kurva distribusi normal \n",
    "plot(his, main = \"Plot Data Tinggi Mahasiswa dan Grafik Distribusi Normal\",  col = \"#0097A7\", border = \"#FFFF00\", xlab = \"College Students Frequency\", las=2, xlim=c(120,240), freq=FALSE)\n",
    "lines(x,norm,col=\"darkblue\", lwd=2)\n",
    "\n",
    "\n",
    "# Plot distribusi kumulatif data 1\n",
    "y <- pnorm(x, rata1, StandarDeviasi1)\n",
    "plot(x,y, lwd=2, type=\"l\", main=\"Grafik Distribusi Kumulatif Normal\", col=\"darkblue\", ylab=\"Kumulatif\", xlab=\"Tinggi\")"
   ]
  },
  {
   "cell_type": "code",
   "execution_count": 47,
   "metadata": {},
   "outputs": [
    {
     "name": "stdout",
     "output_type": "stream",
     "text": [
      "1.4) Contoh Pemecahan Masalah:\n",
      "\n",
      "a. Peluang tinggi mahasiswa kurang dari 150.00cm adalah  0.0405263 \n",
      "   Ekspektasi jumlah mahasiswa dengan tinggi kurang dari 150.00cm adalah  4  mahasiswa\n",
      "\n",
      "b. Peluang tinggi mahasiswa diatas dari 200.00cm adalah  0.05810518 \n",
      "   Ekspektasi jumlah mahasiswa dengan tinggi diatas dari 200.00cm adalah  5  mahasiswa\n"
     ]
    }
   ],
   "source": [
    "cat(\"1.4) Contoh Pemecahan Masalah:\\n\\n\")\n",
    "Expected1A <- pnorm(149.995, rata1, StandarDeviasi1)\n",
    "\n",
    "cat(\"a. Peluang tinggi mahasiswa kurang dari 150.00cm adalah \",Expected1A,\"\\n\")\n",
    "cat(\"   Ekspektasi jumlah mahasiswa dengan tinggi kurang dari 150.00cm adalah \",floor(Expected1A*100),\" mahasiswa\\n\\n\")\n",
    "\n",
    "Expected1B <- 1-pnorm(200.00, rata1, StandarDeviasi1)\n",
    "cat(\"b. Peluang tinggi mahasiswa diatas dari 200.00cm adalah \",Expected1B,\"\\n\")\n",
    "cat(\"   Ekspektasi jumlah mahasiswa dengan tinggi diatas dari 200.00cm adalah \",floor(Expected1B*100),\" mahasiswa\\n\")"
   ]
  },
  {
   "cell_type": "code",
   "execution_count": 8,
   "metadata": {},
   "outputs": [
    {
     "name": "stdout",
     "output_type": "stream",
     "text": [
      "1.5) Contoh Pemecahan Masalah:\n",
      "\n",
      "a. Peluang tinggi mahasiswa dengan tinggi berada diantara 160.00cm-190.00cm inklusif adalah  0.6783748 \n",
      "   Ekspektasi jumlah mahasiswa dengan tinggi berada diantara 160.00cm-190.00cm inklusif adalah  33  mahasiswa\n",
      "\n",
      "b. Peluang tinggi mahasiswa sama dengan 170.00cm adalah  0.02423621 \n",
      "   Ekspektasi jumlah mahasiswa dengan tinggi sama dengan 170.00cm adalah  1  mahasiswa\n"
     ]
    }
   ],
   "source": [
    "cat(\"1.5) Contoh Pemecahan Masalah:\\n\\n\")\n",
    "\n",
    "Expected1A <- pnorm(190.0, rata1, StandarDeviasi1)\n",
    "Expected1B <- pnorm(159.99, rata1, StandarDeviasi1)\n",
    "Sol1A <- Expected1A-Expected1B\n",
    "cat(\"a. Peluang tinggi mahasiswa dengan tinggi berada diantara 160.00cm-190.00cm inklusif adalah \",Sol1A,\"\\n\")\n",
    "cat(\"   Ekspektasi jumlah mahasiswa dengan tinggi berada diantara 160.00cm-190.00cm inklusif adalah \",floor(Sol1A*50),\" mahasiswa\\n\\n\")\n",
    "\n",
    "\n",
    "Sol1B <- dnorm(170.00, rata1, StandarDeviasi1)\n",
    "cat(\"b. Peluang tinggi mahasiswa sama dengan 170.00cm adalah \",Sol1B,\"\\n\")\n",
    "cat(\"   Ekspektasi jumlah mahasiswa dengan tinggi sama dengan 170.00cm adalah \",floor(Sol1B*50),\" mahasiswa\\n\")\n"
   ]
  },
  {
   "cell_type": "markdown",
   "metadata": {},
   "source": [
    "## __SOAL 2__\n",
    "\n",
    "#### __Data: commentlength.csv__\n",
    "Suatu hari rektor IPI menetapkan peraturan baru yaitu setiap mahasiswa tidak diperbolehkan berada di area kampus diatas pukul 19.00 WITA. Hal ini mendapatkan perhatian negatif dari mahasiswanya karena banyak mahasiswa yang sering beraktivitas di kampus pada malam hari. Oleh karena itu, rektor IPI membuka forum online dimana seluruh mahasiswa dapat memberi komentar (kritik/saran)\n",
    "mengenai peraturan tersebut. Komentar yang diberika mahasiswa beragam; ada yang panjang dan sangat informatif, ada juga yang pendek dan hanya menyalahkan peraturan tanpa memberi penjelasan atau solusi. Rektor IPI hanya tertarik dengan komentar yang panjang dan informatif sehingga ia meminta Anda, seorang (calon) ahli statistika, untuk membantunya menganalisis komentar-komentar mahasiswanya. Ia sudah memproses data komentar mahasiswa untuk memperoleh data panjang komentar mahasiswa dalam satuan kata (commentlength.csv) sehingga Anda bisa langsung melakukan analisis.\n",
    "\n",
    "Berikut adalah hal yang dia minta Anda lakukan:\n",
    "\n",
    "1 Menulis deskripsi statisktika (Descriptive Statistics) dari data komentar, minimal terdiri dari mean, median, modus, standar deviasi, variansi, range, nilai minimum dan maksimum.\n",
    "\n",
    "2 Menentukan distribusi yang paling sesuai dari data komentar. Jelaskan alasan mengapa distribusi tersebut dipilih.\n",
    "\n",
    "3 Membuat plot distribusi yang Anda pilih beserta plot distribusi kumulatifnya.\n",
    "\n",
    "4 Apabila hari ini IPI menerima 100 komentar dari mahasiswa, tentukan ekspektasi jumlah komentar yang panjangnya:\n",
    "    \n",
    "    a. dibawah 3 kata.\n",
    "    b. diatas 50 kata.\n",
    "\n",
    "5 Apabila hari ini IPI menerima 200 komentar dari mahasiswa, tentukan ekspektasi jumlah komentar yang panjangnya:\n",
    "    \n",
    "    a. diantara 4 dan 6 kata (inklusif).\n",
    "    b. hanya 1 kata."
   ]
  },
  {
   "cell_type": "code",
   "execution_count": 49,
   "metadata": {},
   "outputs": [
    {
     "name": "stdout",
     "output_type": "stream",
     "text": [
      "2.1) Deskripsi Data:\n",
      "\n",
      "Mean= 9.585 \n",
      "Median= 5 \n",
      "Modus= 2 \n",
      "Standar Deviasi= 15.58903 \n",
      "Variansi= 243.0178 \n",
      "Range= 207 \n",
      "Maximum= 208 \n",
      "Minimum= 1"
     ]
    }
   ],
   "source": [
    "# Baca data dari commentlength.csv lalu dimasukkan dalam array bernama data dengan ukuran 1000 element\n",
    "data2 <- array(scan(\"commentlength.csv\"),dim = 1000)\n",
    "\n",
    "# Mencari nilai maksimum dari data\n",
    "maks2 <- max(data2)\n",
    "\n",
    "# Mencari nilai minimum dari data\n",
    "mini2 <- min(data2)\n",
    "\n",
    "# Mencari nilai median dari data\n",
    "mid2 <- median(data2)\n",
    "\n",
    "# Mencari nilai rata-rata dari data\n",
    "rata2 <-  mean(data2,na.rm=TRUE)\n",
    "\n",
    "# Membuat fungsi untuk mencari nilai modus\n",
    "getmode <- function(v) {\n",
    "   Best <- unique(v)\n",
    "   Best[which.max(tabulate(match(v, Best)))]\n",
    "}\n",
    "\n",
    "# Mencari nilai modus\n",
    "modus2 <- getmode(data2)\n",
    "\n",
    "# Mencari nilai standar deviasi dari data\n",
    "StandarDeviasi2 <- sd(data2)\n",
    "\n",
    "# Mencari nilai Variansi dari data\n",
    "Variansi2 <- var(data2)\n",
    "\n",
    "cat(\"2.1) Deskripsi Data:\\n\\n\")\n",
    "\n",
    "\n",
    "\n",
    "cat(\"Mean=\",rata2,\"\\nMedian=\",mid2,\"\\nModus=\",modus2,\"\\nStandar Deviasi=\",StandarDeviasi2,\"\\nVariansi=\",Variansi2,\"\\nRange=\",maks2-mini2,\"\\nMaximum=\",maks2,\"\\nMinimum=\",mini2)"
   ]
  },
  {
   "cell_type": "markdown",
   "metadata": {},
   "source": [
    "2.2 Penjelasan mengenai penggunaan distribusi gamma\n",
    "Distribusi yang paling sesuai adalah distribusi gamma.\n",
    "\n",
    "Dari data yang dipunyai menyerupai pendekatan dari distribusi gamma / distribusi eksponensial\n",
    "Karena lpha tidka sama dengan satu, maka dapat kita deduksi bahwa distribusi yang paling sesuai adaah distribusi gamma."
   ]
  },
  {
   "cell_type": "code",
   "execution_count": 11,
   "metadata": {},
   "outputs": [
    {
     "name": "stdout",
     "output_type": "stream",
     "text": [
      "Beta = 25.35397 \n",
      "Alpha = 0.3780473 \n"
     ]
    }
   ],
   "source": [
    "# Find beta\n",
    "beta <- Variansi2/rata2\n",
    "cat(\"Beta =\", beta, \"\\n\")\n",
    "# Find alpha\n",
    "alpha <- rata2/beta\n",
    "cat(\"Alpha =\", alpha, \"\\n\")"
   ]
  },
  {
   "cell_type": "code",
   "execution_count": 50,
   "metadata": {},
   "outputs": [
    {
     "name": "stdout",
     "output_type": "stream",
     "text": [
      "2.3) Plot grafik:\n",
      "\n",
      "\n"
     ]
    },
    {
     "data": {
      "image/png": "[encoded data removed]",
      "text/plain": [
       "Plot with title \"Grafik Distribusi Kumulatif Gamma\""
      ]
     },
     "metadata": {},
     "output_type": "display_data"
    }
   ],
   "source": [
    "# Set the gamma distribution graph\n",
    "x <- seq(mini2, maks2, length=1000)\n",
    "gamma <- dgamma(x, alpha, 1/beta)\n",
    "# Set the parameter\n",
    "par(mfrow=c(2,1), cex.axis=0.8)\n",
    "\n",
    "# Set the histogram\n",
    "his <- hist(data2, breaks=100, plot=FALSE)\n",
    "\n",
    "cat(\"2.3) Plot grafik:\\n\\n\\n\");\n",
    "\n",
    "# Plot histogram dan kurva distribusi normal \n",
    "plot(his, main = \"Data Panjang Komentar Mahasiswa dan Grafik Distribusi Gamma\",  col = \"#0097A7\", border = \"#FFFF00\", xlab = \"College Students Frequency\", las=1, xlim=c(0,250), freq=FALSE)\n",
    "lines(x,gamma,col=\"darkblue\", lwd=2, las=1)\n",
    "\n",
    "y <- pgamma(x, alpha, 1/beta)\n",
    "plot(x,y, lwd=2, type=\"l\", main=\"Grafik Distribusi Kumulatif Gamma\", col=\"darkblue\", ylab=\"Kumulatif\", xlab=\"Tinggi\")"
   ]
  },
  {
   "cell_type": "code",
   "execution_count": 13,
   "metadata": {},
   "outputs": [
    {
     "name": "stdout",
     "output_type": "stream",
     "text": [
      "2.4) Contoh Pemecahan Masalah:\n",
      "\n",
      "a. Peluang jumlah kata komentar mahasiswa kurang dari 3 kata adalah  0.4563789 \n",
      "   Ekspektasi jumlah kata komentar mahasiswa kurang dari 3 kata adalah  45  mahasiswa\n",
      "\n",
      "b. Peluang jumlah kata komentar mahasiswa lebih dari 50 kata adalah  0.03062925 \n",
      "   Ekspektasi jumlah kata komentar mahasiswa lebih dari 50 kata adalah  3  mahasiswa\n"
     ]
    }
   ],
   "source": [
    "cat(\"2.4) Contoh Pemecahan Masalah:\\n\\n\")\n",
    "\n",
    "Expected2A <- pgamma(2.5, alpha, 1/beta)\n",
    "cat(\"a. Peluang jumlah kata komentar mahasiswa kurang dari 3 kata adalah \",Expected2A,\"\\n\")\n",
    "cat(\"   Ekspektasi jumlah kata komentar mahasiswa kurang dari 3 kata adalah \",floor(Expected2A*100),\" mahasiswa\\n\\n\")\n",
    "\n",
    "Expected2B <- 1-pgamma(50.5, alpha, 1/beta)\n",
    "cat(\"b. Peluang jumlah kata komentar mahasiswa lebih dari 50 kata adalah \",Expected2B,\"\\n\")\n",
    "cat(\"   Ekspektasi jumlah kata komentar mahasiswa lebih dari 50 kata adalah \",floor(Expected2B*100),\" mahasiswa\\n\")"
   ]
  },
  {
   "cell_type": "code",
   "execution_count": 14,
   "metadata": {},
   "outputs": [
    {
     "name": "stdout",
     "output_type": "stream",
     "text": [
      "2.5) Contoh Pemecahan Masalah:\n",
      "\n",
      "a. Peluang kata komentar mahasiswa berada diantara 4-6 kata inklusif adalah  0.1157333 \n",
      "   Ekspektasi kata komentar mahasiswa berada diantara 4-6 kata inklusif adalah  23  mahasiswa\n",
      "\n",
      "b. Peluang jumlah kata komentar mahasiswa hanya 1 kata adalah  0.1204689 \n",
      "   Ekspektasi jumlah kata komentar mahasiswa hanya 1 kata adalah  24  mahasiswa\n"
     ]
    }
   ],
   "source": [
    "cat(\"2.5) Contoh Pemecahan Masalah:\\n\\n\")\n",
    "\n",
    "Expected2A <- pgamma(6.5, alpha, 1/beta)\n",
    "Expected2B <- pgamma(3.5, alpha, 1/beta)\n",
    "Sol2A <- Expected2A-Expected2B\n",
    "cat(\"a. Peluang kata komentar mahasiswa berada diantara 4-6 kata inklusif adalah \",Sol2A,\"\\n\")\n",
    "cat(\"   Ekspektasi kata komentar mahasiswa berada diantara 4-6 kata inklusif adalah \",floor(Sol2A*200),\" mahasiswa\\n\\n\")\n",
    "\n",
    "Sol2B <- dgamma(1, alpha, 1/beta)\n",
    "cat(\"b. Peluang jumlah kata komentar mahasiswa hanya 1 kata adalah \",Sol2B,\"\\n\")\n",
    "cat(\"   Ekspektasi jumlah kata komentar mahasiswa hanya 1 kata adalah \",floor(Sol2B*200),\" mahasiswa\\n\")"
   ]
  },
  {
   "cell_type": "markdown",
   "metadata": {},
   "source": [
    "## __SOAL 3__\n",
    "\n",
    "#### __Data: ujian.csv__\n",
    "\n",
    "Kampus IPI sangat terkenal di Indonesia karena salah satu peraturannya, yaitu mahasiswa yang mendapat nilai ujian dibawah batas kelulusan boleh melakukan ujian ulang (dengan jumlah yang tak terbatas) sampai nilainya sama atau melebihi batas kelulusan (75). Apabila mahasiswa yang sudah lulus ujian merasa nilainya kurang memuaskan, ia boleh melakukan ujian ulang sampai ia merasa puas dengan nilainya. Tentunya dosen sudah menyediakan soal ujian yang berbeda untuk setiap ujian ulang sehingga mahasiswa tetap harus mempersiapkan diri. Suatu hari, seorang mahasiswa bernama X ditantang oleh temannya bernama Y untuk mengerjakan ujian matakuliah sastra teknik informatika sebanyak 1000 kali! Dengan merasa semangat, X pun menerima tantangan dari temannya untuk mengerjakan ujian sebanyak 1000 kali. Sebagai seorang (calon) ahli statistika, Anda penasaran tentang hasil ujian yang dilakukan X sehingga Anda melakukan analisis terhadap nilai ujian tersebut. Berikut adalah hal akan Anda lakukan:\n",
    "\n",
    "1 Menulis deskripsi statisktika dari data ujian, beserta peluang X lulus ujian dan peluang X tidak lulus ujian matakuliah sastra teknik informatika.\n",
    "\n",
    "2 Apabila Y menantang X lagi untuk melakukan ujian matakuliah sebanyak 20 kali, tentukan:\n",
    "    \n",
    "    a. distribusi yang paling sesuai untuk persoalan ini beserta alasan mengapa distribusi tersebut dipilih.\n",
    "    b. plot distribusi yang Anda pilih dan plot distribusi kumulatifnya.\n",
    "    c. peluang untuk kasus minimal X lulus sebanyak 8 kali.\n",
    "    d. peluang untuk kasus maksimal X tidak lulus sebanyak 10 kali.\n",
    "\n",
    "3 Apabila Y menantang X untuk melakukan ujian matakuliah sastra teknik informatika berkalikali sampai X lulus, tentukan:\n",
    "\n",
    "    a. distribusi yang paling sesuai untuk persoalan ini beserta alasan mengapa distribusi tersebut dipilih.\n",
    "    b. plot distribusi yang Anda pilih dan plot distribusi kumulatifnya.\n",
    "    c. peluang X lulus setelah menyelesaikan ujian ke-10.\n",
    "    d. peluang X lulus setelah menyelesaikan ujian ke-4 atau ke-6.\n",
    "    e. peluang X lulus apabila Y hanya memberi 3 kesempatan bagi X untuk melakukan ujian.\n",
    "    f. peluang X lulus setelah menyelesaikan ujian pertama"
   ]
  },
  {
   "cell_type": "code",
   "execution_count": 52,
   "metadata": {},
   "outputs": [
    {
     "name": "stdout",
     "output_type": "stream",
     "text": [
      "3.1) Deskripsi Data:\n",
      "\n",
      "Mean= 58.995 \n",
      "Median= 65 \n",
      "Modus= 76 \n",
      "Standar Deviasi= 30.93108 \n",
      "Variansi= 956.7317 \n",
      "Range= 100 \n",
      "Maximum= 100 \n",
      "Minimum= 0 \n",
      "Peluang Berhasil=0.45\n",
      "Peluang Gagal=0.55"
     ]
    }
   ],
   "source": [
    "# Baca data dari ujian.csv lalu dimasukkan dalam array bernama data dengan ukuran 1000 element\n",
    "data3 <- array(scan(\"ujian.csv\"),dim = 1000)\n",
    "# Mencari nilai maksimum dari data\n",
    "maks3 <- max(data3)\n",
    "# Mencari nilai minimum dari data\n",
    "mini3 <- min(data3)\n",
    "# Mencari nilai median dari data\n",
    "mid3 <- median(data3)\n",
    "# Mencari nilai rata-rata dari data\n",
    "rata3 <-  mean(data3,na.rm=TRUE)\n",
    "# Membuat fungsi untuk mencari nilai modus\n",
    "getmode <- function(v) {\n",
    "   Best <- unique(v)\n",
    "   Best[which.max(tabulate(match(v, Best)))]\n",
    "}\n",
    "# Mencari nilai modus\n",
    "modus3 <- getmode(data3)\n",
    "# Mencari nilai standar deviasi dari data\n",
    "StandarDeviasi3 <- sd(data3)\n",
    "# Mencari nilai Variansi dari data\n",
    "Variansi3 <- var(data3)\n",
    "cat(\"3.1) Deskripsi Data:\\n\\n\")\n",
    "cat(\"Mean=\",rata3,\"\\nMedian=\",mid3,\"\\nModus=\",modus3,\"\\nStandar Deviasi=\",StandarDeviasi3,\"\\nVariansi=\",Variansi3,\"\\nRange=\",maks3-mini3,\"\\nMaximum=\",maks3,\"\\nMinimum=\",mini3,\"\\nPeluang Berhasil=0.45\\nPeluang Gagal=0.55\")"
   ]
  },
  {
   "cell_type": "code",
   "execution_count": 23,
   "metadata": {},
   "outputs": [
    {
     "name": "stdout",
     "output_type": "stream",
     "text": [
      "3.2) Contoh Pemecahan Masalah:\n",
      "\n",
      "a. Plot distribusi yang paling sesuai adalah distribusi binomial\n",
      "   Pertama adalah kita ingin mencari peluang dalam jumlah percobaan tertentu   Kedua adalah hasilnya selalu hanya ada dua kemungkinan yaitu sukses atau gagal\n",
      "\n",
      "b. Plot grafik:\n"
     ]
    },
    {
     "data": {
      "image/png": "[encoded data removed]",
      "text/plain": [
       "Plot with title \"Grafik Distribusi Kumulatif Binomial\""
      ]
     },
     "metadata": {},
     "output_type": "display_data"
    }
   ],
   "source": [
    "cat(\"3.2) Contoh Pemecahan Masalah:\\n\\n\")\n",
    "\n",
    "cat(\"a. Plot distribusi yang paling sesuai adalah distribusi binomial\\n\")\n",
    "cat(\"   Pertama adalah kita ingin mencari peluang dalam jumlah percobaan tertentu\")\n",
    "cat(\"   Kedua adalah hasilnya selalu hanya ada dua kemungkinan yaitu sukses atau gagal\\n\\n\")\n",
    "\n",
    "# Set the binomial distribution graph\n",
    "x <- seq(mini3, maks3, by = 1)\n",
    "binom <- dbinom(x, 20, 0.45)\n",
    "\n",
    "# Set the par\n",
    "par(mfrow=c(3,1), cex.axis=0.8)\n",
    "\n",
    "# Set the histogram\n",
    "his <- hist(data3, breaks=25, plot=FALSE)\n",
    "\n",
    "cat(\"b. Plot grafik:\\n\");\n",
    "\n",
    "# Plot histogram \n",
    "plot(his, main = \"Plot Data Nilai Mahasiswa\",  col = \"#0097A7\", border = \"#FFFF00\", xlab = \"Nilai Mahasiswa\", las=1, xlim=c(0,100))\n",
    "\n",
    "# Plot kurva distribusi binomial\n",
    "plot(x,binom, type=\"l\", main=\"Grafik Distribusi Binomial\",col=\"darkblue\", lwd=2, xlab= \"Lulus\", ylab=\"Probabilitas\", xlim=c(0,20), las=1)\n",
    "\n",
    "# PLot distribusi kumulatif\n",
    "y <- pbinom(x, 20, 0.45)\n",
    "plot(x,y, lwd=2, type=\"l\", main=\"Grafik Distribusi Kumulatif Binomial\", col=\"darkblue\", ylab=\"Peluang Kumulatif\", xlab=\"Lulus\", xlim=c(0,20), las=1)"
   ]
  },
  {
   "cell_type": "code",
   "execution_count": 24,
   "metadata": {},
   "outputs": [
    {
     "name": "stdout",
     "output_type": "stream",
     "text": [
      "d. peluang untuk kasus minimal X lulus sebanyak 8 kali 0.7479941 \n",
      "\n",
      "e. peluang untuk kasus maksimal X tidak lulus sebanyak 10 kali 0.4086388 \n",
      "\n"
     ]
    }
   ],
   "source": [
    "SolC <- 1- pbinom(7, 20, 0.45)\n",
    "cat(\"d. peluang untuk kasus minimal X lulus sebanyak 8 kali\",SolC,\"\\n\\n\")\n",
    "\n",
    "SolD <- pbinom(10, 20, 0.55)\n",
    "cat(\"e. peluang untuk kasus maksimal X tidak lulus sebanyak 10 kali\",SolD,\"\\n\\n\")"
   ]
  },
  {
   "cell_type": "code",
   "execution_count": 26,
   "metadata": {},
   "outputs": [
    {
     "name": "stdout",
     "output_type": "stream",
     "text": [
      "3.3) Contoh Pemecahan Masalah:\n",
      "\n",
      "a. Plot distribusi yang paling sesuai adalah distribusi geometri\n",
      "   Pertama adalah kita ingin mencari peluang dalam kondisi dimana keadaan sukses/berhasil pertama kali ditemukanb. Plot grafik:\n"
     ]
    },
    {
     "data": {
      "image/png": "[encoded data removed]",
      "text/plain": [
       "Plot with title \"Grafik Distribusi Kumulatif Geometri\""
      ]
     },
     "metadata": {},
     "output_type": "display_data"
    }
   ],
   "source": [
    "cat(\"3.3) Contoh Pemecahan Masalah:\\n\\n\")\n",
    "\n",
    "cat(\"a. Plot distribusi yang paling sesuai adalah distribusi geometri\\n\")\n",
    "cat(\"   Pertama adalah kita ingin mencari peluang dalam kondisi dimana keadaan sukses/berhasil pertama kali ditemukan\")\n",
    "\n",
    "# Set the binomial distribution graph\n",
    "x <- seq(0, 20, by = 1)\n",
    "geom <- dgeom(x, 0.45)\n",
    "# Set the par\n",
    "par(mfrow=c(2,1), cex.axis=0.8)\n",
    "\n",
    "cat(\"b. Plot grafik:\\n\");\n",
    "plot(x,geom,type=\"l\", main=\"Grafik Distribusi Geometri\",col=\"darkblue\", lwd=2, xlab= \"Lulus\", ylab=\"Probabilitas\", xlim=c(0,20), las=1)\n",
    "\n",
    "# PLot distribusi kumulatif\n",
    "y <- pgeom(x, 0.45)\n",
    "plot(x,y, lwd=2, type=\"l\", main=\"Grafik Distribusi Kumulatif Geometri\", col=\"darkblue\", ylab=\"Peluang Kumulatif\", xlab=\"Lulus\", xlim=c(0,20), las=1)"
   ]
  },
  {
   "cell_type": "code",
   "execution_count": 56,
   "metadata": {},
   "outputs": [
    {
     "name": "stdout",
     "output_type": "stream",
     "text": [
      "c. peluang X lulus setelah ujian ke-10 : 0.002072415 \n",
      "\n",
      "d. peluang X lulus setelah ujian ke-4 atau ke-6 : 0.09751655 \n",
      "\n",
      "e. peluang X lulus jika hanya ada 3 kesempatan : 0.833625 \n",
      "\n",
      "f. peluang X lulus setelah ujian pertama : 0.45 \n",
      "\n"
     ]
    }
   ],
   "source": [
    "SolC <- dgeom(9, 0.45)\n",
    "cat(\"c. peluang X lulus setelah ujian ke-10 :\",SolC,\"\\n\\n\")\n",
    "\n",
    "SolD <- dgeom(3, 0.45) + dgeom(5, 0.45)\n",
    "cat(\"d. peluang X lulus setelah ujian ke-4 atau ke-6 :\",SolD,\"\\n\\n\")\n",
    "\n",
    "\n",
    "SolE <- pgeom(2, 0.45)\n",
    "cat(\"e. peluang X lulus jika hanya ada 3 kesempatan :\",SolE,\"\\n\\n\")\n",
    "\n",
    "SolF <- dgeom(0, 0.45)\n",
    "cat(\"f. peluang X lulus setelah ujian pertama :\",SolF,\"\\n\\n\")"
   ]
  },
  {
   "cell_type": "markdown",
   "metadata": {},
   "source": [
    "## __SOAL 4__\n",
    "\n",
    "#### __Data: kejahatan.csv__\n",
    "\n",
    "Setelah rektor IPI mendapatkan kritik yang negatif mengenai peraturan jam malam sebelumnya, ia memutuskan untuk menarik peraturan tersebut. Akan tetapi, sebenarnya tujuan awal ia menetapkan peraturan tersebut adalah untuk mengurangi kejahatan yang terjadi pada malam hari. Untuk tetap bisa mencapai tujuan awalnya, ia mencoba berbagai cara lain seperti memasang banyak CCTV dan mempekerjakan lebih banyak satpam keamanan. Setelah tiga tahun berlalu, ia ingin tahu apakah usaha yang ia sudah lakukan sudah cukup baik. Oleh karena itu, ia menghubungi Anda, seorang ahli statistika, untuk datang dan membantu menganalisis data kejahatan 3 tahun. Anda diminta untuk:\n",
    "\n",
    "1 Menulis deskripsi statisktika dari data kejahatan.\n",
    "\n",
    "2 Menentukan distribusi yang paling sesuai untuk persoalan tersebut. Jelaskan alasan mengapa distribusi tersebut dipilih.\n",
    "\n",
    "3 Membuat plot distribusi yang Anda pilih beserta plot distribusi kumulatifnya.\n",
    "\n",
    "4 Tentukan peluang:\n",
    "    \n",
    "    a. tidak ada kejahatan yang terjadi selama 1 bulan (30 hari).\n",
    "    b. maksimal terjadi 20 kejahatan selama 1 tahun.\n",
    "\n",
    "5 Selama 1 tahun, tentukan berapa kali terjadinya kejahatan apabila diketahui peluang kasus yang ditanya sebesar 0.02634."
   ]
  },
  {
   "cell_type": "code",
   "execution_count": 57,
   "metadata": {},
   "outputs": [
    {
     "name": "stdout",
     "output_type": "stream",
     "text": [
      "4.1) Deskripsi Data:\n",
      "\n",
      "Mean= 0.0456621 \n",
      "Median= 0 \n",
      "Modus= 0 \n",
      "Standar Deviasi= 0.2766291 \n",
      "Variansi= 0.07652367 \n",
      "Range= 4 \n",
      "Maximum= 4 \n",
      "Minimum= 0"
     ]
    },
    {
     "data": {
      "text/html": [
       "<table>\n",
       "<thead><tr><th scope=col>hari.ke</th><th scope=col>jumlah_kejahatan</th></tr></thead>\n",
       "<tbody>\n",
       "\t<tr><td>1</td><td>0</td></tr>\n",
       "\t<tr><td>2</td><td>0</td></tr>\n",
       "\t<tr><td>3</td><td>0</td></tr>\n",
       "\t<tr><td>4</td><td>0</td></tr>\n",
       "\t<tr><td>5</td><td>0</td></tr>\n",
       "\t<tr><td>6</td><td>0</td></tr>\n",
       "</tbody>\n",
       "</table>\n"
      ],
      "text/latex": [
       "\\begin{tabular}{r|ll}\n",
       " hari.ke & jumlah\\_kejahatan\\\\\n",
       "\\hline\n",
       "\t 1 & 0\\\\\n",
       "\t 2 & 0\\\\\n",
       "\t 3 & 0\\\\\n",
       "\t 4 & 0\\\\\n",
       "\t 5 & 0\\\\\n",
       "\t 6 & 0\\\\\n",
       "\\end{tabular}\n"
      ],
      "text/markdown": [
       "\n",
       "hari.ke | jumlah_kejahatan | \n",
       "|---|---|---|---|---|---|\n",
       "| 1 | 0 | \n",
       "| 2 | 0 | \n",
       "| 3 | 0 | \n",
       "| 4 | 0 | \n",
       "| 5 | 0 | \n",
       "| 6 | 0 | \n",
       "\n",
       "\n"
      ],
      "text/plain": [
       "  hari.ke jumlah_kejahatan\n",
       "1 1       0               \n",
       "2 2       0               \n",
       "3 3       0               \n",
       "4 4       0               \n",
       "5 5       0               \n",
       "6 6       0               "
      ]
     },
     "metadata": {},
     "output_type": "display_data"
    }
   ],
   "source": [
    "# Baca data dari kejahatan.csv\n",
    "data4 <- read.table(\"kejahatan.csv\", header=TRUE, sep=\",\")\n",
    "# Mencari nilai maksimum dari data\n",
    "maks4 <- max(data4$jumlah_kejahatan)\n",
    "# Mencari nilai minimum dari data\n",
    "mini4 <- min(data4$jumlah_kejahatan)\n",
    "# Mencari nilai median dari data\n",
    "mid4 <- median(data4$jumlah_kejahatan)\n",
    "# Mencari nilai rata-rata dari data\n",
    "rata4 <-  mean(data4$jumlah_kejahatan,na.rm=TRUE)\n",
    "# Membuat fungsi untuk mencari nilai modus\n",
    "getmode <- function(v) {\n",
    "   Best <- unique(v)\n",
    "   Best[which.max(tabulate(match(v, Best)))]\n",
    "}\n",
    "# Mencari nilai modus\n",
    "modus4 <- getmode(data4$jumlah_kejahatan)\n",
    "\n",
    "# Mencari nilai standar deviasi dari data\n",
    "StandarDeviasi4 <- sd(data4$jumlah_kejahatan)\n",
    "# Mencari nilai Variansi dari data\n",
    "Variansi4 <- var(data4$jumlah_kejahatan)\n",
    "cat(\"4.1) Deskripsi Data:\\n\\n\")\n",
    "cat(\"Mean=\",rata4,\"\\nMedian=\",mid4,\"\\nModus=\",modus4,\"\\nStandar Deviasi=\",StandarDeviasi4,\"\\nVariansi=\",Variansi4,\"\\nRange=\",maks4-mini4,\"\\nMaximum=\",maks4,\"\\nMinimum=\",mini4)\n",
    "\n",
    "# masukkan nilai bagian data yang hanya digunakan ke variabel data4\n",
    "head(data4)\n",
    "data4<- data4$jumlah_kejahatan"
   ]
  },
  {
   "cell_type": "markdown",
   "metadata": {},
   "source": [
    "4.2 Penjelasan mengenai penggunaan distribusi poisson.\n",
    "\n",
    "Distribusi yang paling sesuai adalah distribusi poisson.\n",
    "\n",
    "Dari data yang dipunyai jelas kalau nilai dari 1 data dengan data lain saling independent. Selain itu dari data juga diperoleh kalau ada waktu interval per hari dari data yang diberikan."
   ]
  },
  {
   "cell_type": "code",
   "execution_count": 59,
   "metadata": {},
   "outputs": [
    {
     "name": "stdout",
     "output_type": "stream",
     "text": [
      "4.3) Plot Grafik:"
     ]
    },
    {
     "data": {
      "image/png": "[encoded data removed]",
      "text/plain": [
       "Plot with title \"Grafik Distribusi Kumulatif Poisson\""
      ]
     },
     "metadata": {},
     "output_type": "display_data"
    }
   ],
   "source": [
    "cat(\"4.3) Plot Grafik:\")\n",
    "\n",
    "# Set the par\n",
    "par(mfrow=c(2,1), cex.axis=0.8)\n",
    "\n",
    "# Set grafik distribusi poisson\n",
    "x <- sort(data4)\n",
    "y <- dpois(x, rata4)\n",
    "\n",
    "plot(x,y,type=\"l\", lwd=1,main=\"Grafik Distribusi Poisson\", col=\"darkblue\", xlab=\"Banyak Kejahatan\", ylab=\"Probabilitas\")\n",
    "\n",
    "\n",
    "\n",
    "# Set grafik kumulatif distribusi poisson\n",
    "y <- ppois(x, rata4)\n",
    "plot(x,y,type=\"l\", lwd=1,main=\"Grafik Distribusi Kumulatif Poisson\", col=\"darkblue\", xlab=\"Banyak Kejahatan\", ylab=\"Probabilitas\")"
   ]
  },
  {
   "cell_type": "code",
   "execution_count": 62,
   "metadata": {},
   "outputs": [
    {
     "name": "stdout",
     "output_type": "stream",
     "text": [
      "4.4) Contoh Pemecahan Masalah:\n",
      "\n",
      "a. Peluang tidak ada kejahatan yang terjadi dalam 1 bulan adalah: 0.2541418 \n",
      "b. Peluang maksimal terjadi 20 kejahatan dalam 1 tahun adalah: 0.82784"
     ]
    }
   ],
   "source": [
    "cat(\"4.4) Contoh Pemecahan Masalah:\\n\\n\")\n",
    "SolA <- ppois(0,rata4*30)\n",
    "cat(\"a. Peluang tidak ada kejahatan yang terjadi dalam 1 bulan adalah:\", SolA, \"\\n\");\n",
    "SolB <- ppois(20,rata4*365)\n",
    "cat(\"b. Peluang maksimal terjadi 20 kejahatan dalam 1 tahun adalah:\", SolB);"
   ]
  },
  {
   "cell_type": "code",
   "execution_count": 33,
   "metadata": {},
   "outputs": [
    {
     "name": "stdout",
     "output_type": "stream",
     "text": [
      "4.5) Contoh Pemecahan Masalah:\n",
      "\n",
      "Banyak kejahatan yang terjadi dalam 1 tahun bila peluang kasus 0.02634 adalah: 10  kasus\n"
     ]
    }
   ],
   "source": [
    "cat(\"4.5) Contoh Pemecahan Masalah:\\n\\n\")\n",
    "\n",
    "coun <- 0.02634*365\n",
    "cat(\"Banyak kejahatan yang terjadi dalam 1 tahun bila peluang kasus 0.02634 adalah:\", round(coun), \" kasus\\n\");"
   ]
  },
  {
   "cell_type": "markdown",
   "metadata": {},
   "source": [
    "## __SOAL 5__\n",
    "\n",
    "Periksa apakah data pada soal 1, 2, 3, dan 4 saling berkorelasi. Beri penjelasan secara rinci beserta perhitungannya."
   ]
  },
  {
   "cell_type": "markdown",
   "metadata": {},
   "source": [
    "#### __Informasi Data:__\n",
    "\n",
    "Data 1 = Tinggi mahasiswa\n",
    "\n",
    "Data 2 = Panjang komentar mahasiswa\n",
    "\n",
    "Data 3 = Nilai ujian X\n",
    "\n",
    "Data 4 = Jumlah kejahatan per hari"
   ]
  },
  {
   "cell_type": "markdown",
   "metadata": {},
   "source": [
    "#### Korelasi Data 1 dan Data 2"
   ]
  },
  {
   "cell_type": "code",
   "execution_count": 35,
   "metadata": {},
   "outputs": [
    {
     "name": "stdout",
     "output_type": "stream",
     "text": [
      "Korelasi antara data pertama dan kedua adalah  -0.02269882 \n"
     ]
    }
   ],
   "source": [
    "cor12 <- cor(data1, data2)\n",
    "cat(\"Korelasi antara data pertama dan kedua adalah \", cor12, \"\\n\")"
   ]
  },
  {
   "cell_type": "markdown",
   "metadata": {},
   "source": [
    "#### __Analisis__\n",
    "\n",
    "Dari hasil yang didapatkan, korelasi yang dihasilkan minus dan sangat kecil mendekati 0.\n",
    "\n",
    "Selain itu, dari grafik sendiri gambarnya tidak menunjukan korelasi yang kuat.\n",
    "\n",
    "Maka dari itu, data 1 dan data 2 berkorelasi rendah"
   ]
  },
  {
   "cell_type": "markdown",
   "metadata": {},
   "source": [
    "#### Korelasi Data 1 dan Data 3"
   ]
  },
  {
   "cell_type": "code",
   "execution_count": 38,
   "metadata": {},
   "outputs": [
    {
     "name": "stdout",
     "output_type": "stream",
     "text": [
      "Korelasi antara data pertama dan ketiga adalah  0.03847661 \n"
     ]
    }
   ],
   "source": [
    "cor13 <- cor(data1, data3)\n",
    "cat(\"Korelasi antara data pertama dan ketiga adalah \", cor13, \"\\n\")"
   ]
  },
  {
   "cell_type": "markdown",
   "metadata": {},
   "source": [
    "#### __Analisis__\n",
    "\n",
    "Dari hasil yang didapatkan, korelasi yang dihasilkan sangat kecil mendekati 0.\n",
    "\n",
    "Selain itu, dari grafik sendiri gambarnya tidak menunjukan korelasi yang kuat.\n",
    "\n",
    "Maka dari itu, data 1 dan data 3 berkorelasi rendah"
   ]
  },
  {
   "cell_type": "markdown",
   "metadata": {},
   "source": [
    "#### Korelasi Data 1 dan Data 4"
   ]
  },
  {
   "cell_type": "code",
   "execution_count": 39,
   "metadata": {},
   "outputs": [
    {
     "name": "stdout",
     "output_type": "stream",
     "text": [
      "Korelasi antara data pertama dan keempat adalah  -0.038899 \n"
     ]
    }
   ],
   "source": [
    "# Create null data\n",
    "data_add <- c(NA)\n",
    "for (i in 1:94) {\n",
    "    data_add <- c(data_add, NA)\n",
    "}\n",
    "\n",
    "cor14 <- cor(c(data1,data_add), data4, use=\"complete.obs\")\n",
    "cat(\"Korelasi antara data pertama dan keempat adalah \", cor14, \"\\n\")"
   ]
  },
  {
   "cell_type": "markdown",
   "metadata": {},
   "source": [
    "#### __Analisis__\n",
    "\n",
    "Dari hasil yang didapatkan, korelasi yang dihasilkan bernilai negatif dan sangat kecil mendekati 0.\n",
    "\n",
    "Selain itu, dari grafik sendiri gambarnya tidak menunjukan korelasi yang kuat.\n",
    "\n",
    "Maka dari itu, data 1 dan data 4 berkorelasi rendah"
   ]
  },
  {
   "cell_type": "markdown",
   "metadata": {},
   "source": [
    "#### Korelasi Data 2 dan Data 3"
   ]
  },
  {
   "cell_type": "code",
   "execution_count": 40,
   "metadata": {},
   "outputs": [
    {
     "name": "stdout",
     "output_type": "stream",
     "text": [
      "Korelasi antara data kedua dan ketiga adalah  -0.01358113 \n"
     ]
    }
   ],
   "source": [
    "cor23 <- cor(data2, data3)\n",
    "cat(\"Korelasi antara data kedua dan ketiga adalah \", cor23, \"\\n\")"
   ]
  },
  {
   "cell_type": "markdown",
   "metadata": {},
   "source": [
    "#### __Analisis__\n",
    "\n",
    "Dari hasil yang didapatkan, korelasi yang dihasilkan berniali negatif dan sangat kecil mendekati 0.\n",
    "\n",
    "Selain itu, dari grafik sendiri gambarnya tidak menunjukan korelasi yang kuat.\n",
    "\n",
    "Maka dari itu, data 2 dan data 3 berkorelasi rendah"
   ]
  },
  {
   "cell_type": "markdown",
   "metadata": {},
   "source": [
    "#### Korelasi Data 2 dan Data 4"
   ]
  },
  {
   "cell_type": "code",
   "execution_count": 41,
   "metadata": {},
   "outputs": [
    {
     "name": "stdout",
     "output_type": "stream",
     "text": [
      "Korelasi antara data kedua dan keempat adalah  0.006517499 \n"
     ]
    }
   ],
   "source": [
    "cor24 <- cor(c(data2,data_add), data4, use=\"complete.obs\")\n",
    "cat(\"Korelasi antara data kedua dan keempat adalah \", cor24, \"\\n\")"
   ]
  },
  {
   "cell_type": "markdown",
   "metadata": {},
   "source": [
    "#### __Analisis__\n",
    "\n",
    "Dari hasil yang didapatkan, korelasi yang dihasilkan sangat kecil mendekati 0.\n",
    "\n",
    "Selain itu, dari grafik sendiri gambarnya tidak menunjukan korelasi yang kuat.\n",
    "\n",
    "Maka dari itu, data 2 dan data 4 berkorelasi rendah"
   ]
  },
  {
   "cell_type": "markdown",
   "metadata": {},
   "source": [
    "#### Korelasi Data 3 dan Data 4"
   ]
  },
  {
   "cell_type": "code",
   "execution_count": 64,
   "metadata": {},
   "outputs": [
    {
     "name": "stdout",
     "output_type": "stream",
     "text": [
      "Korelasi antara data ketiga dan keempat adalah  0.03955264 \n"
     ]
    }
   ],
   "source": [
    "cor34 <- cor(c(data3,data_add), data4, use=\"complete.obs\")\n",
    "cat(\"Korelasi antara data ketiga dan keempat adalah \", cor34, \"\\n\")"
   ]
  },
  {
   "cell_type": "markdown",
   "metadata": {},
   "source": [
    "#### __Analisis__\n",
    "\n",
    "Dari hasil yang didapatkan, korelasi yang dihasilkan sangat kecil mendekati 0. \n",
    "\n",
    "Selain itu, dari grafik sendiri gambarnya tidak menunjukan korelasi yang kuat.\n",
    "\n",
    "Maka dari itu, data 3 dan data 4 berkorelasi rendah"
   ]
  },
  {
   "cell_type": "markdown",
   "metadata": {},
   "source": [
    "## __Graf Yang Dihasilkan__"
   ]
  },
  {
   "cell_type": "code",
   "execution_count": 66,
   "metadata": {},
   "outputs": [
    {
     "data": {
      "image/png": "[encoded data removed]",
      "text/plain": [
       "Plot with title \"Data3 & Data4\""
      ]
     },
     "metadata": {},
     "output_type": "display_data"
    }
   ],
   "source": [
    "# Set the par\n",
    "par(mfrow=c(3,2), cex.axis=0.8)\n",
    "\n",
    "# Plot data1 dan data2\n",
    "plot(data1, data2, type=\"p\", col=\"darkblue\", main=\"Data1 & Data2\")\n",
    "\n",
    "# Plot data1 dan data3\n",
    "plot(data1, data3, type=\"p\", col=\"darkblue\", main=\"Data1 & Data3\")\n",
    "\n",
    "# Plot data1 dan data4\n",
    "plot(c(data1, data_add), data4, type=\"p\", col=\"darkblue\", xlab=\"data1\", main=\"Data1 & Data4\")\n",
    "\n",
    "# Plot data2 dan data3\n",
    "plot(data2, data3, type=\"p\", col=\"darkblue\", main=\"Data2 & Data3\")\n",
    "\n",
    "# Plot data2 dan data4\n",
    "plot(c(data2, data_add), data4, type=\"p\", col=\"darkblue\", xlab=\"data2\", main=\"Data2 & Data4\")\n",
    "\n",
    "# Plot data3 dan data4\n",
    "plot(c(data3, data_add), data4, type=\"p\", col=\"darkblue\", xlab=\"data3\", main=\"Data3 & Data4\")"
   ]
  },
  {
   "cell_type": "code",
   "execution_count": null,
   "metadata": {},
   "outputs": [],
   "source": []
  }
 ],
 "metadata": {
  "kernelspec": {
   "display_name": "R",
   "language": "R",
   "name": "ir"
  },
  "language_info": {
   "codemirror_mode": "r",
   "file_extension": ".r",
   "mimetype": "text/x-r-source",
   "name": "R",
   "pygments_lexer": "r",
   "version": "3.4.4"
  }
 },
 "nbformat": 4,
 "nbformat_minor": 2
}
